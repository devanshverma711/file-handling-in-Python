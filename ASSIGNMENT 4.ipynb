{
 "cells": [
  {
   "cell_type": "code",
   "execution_count": 23,
   "metadata": {},
   "outputs": [
    {
     "name": "stdout",
     "output_type": "stream",
     "text": [
      "First word of each line.\n",
      "Welcome\n",
      "Python\n",
      "Python\n",
      "There\n",
      "Number of words in text file:  239\n",
      "Number of spaces in text file:  232\n",
      "\n",
      "Enter the letters to match: z\n",
      "\n",
      "organize\n"
     ]
    }
   ],
   "source": [
    "def counter(fname):\n",
    "    \n",
    "    num_words = 0\n",
    "    \n",
    "    char_firstword='0'\n",
    "      \n",
    "    num_lines = 0\n",
    "   \n",
    "    num_charc = 0\n",
    "      \n",
    "    num_spaces = 0\n",
    "    print('First word of each line.')\n",
    "    \n",
    "    with open(fname, 'r') as f: \n",
    "        for line in f:\n",
    "                num_lines += 1\n",
    "                word = 'Y'\n",
    "                words=line.split() \n",
    "                if words:\n",
    "                    print(words[0])\n",
    "                for letter in line: \n",
    "                    if (letter != ' ' and word == 'Y'): \n",
    "                            num_words += 1\n",
    "                            word = 'N'                         \n",
    "                    elif (letter == ' '): \n",
    "                        num_spaces += 1\n",
    "                        word = 'Y'\n",
    "                    for i in letter:\n",
    "                          if(i !=\" \" and i !=\"\\n\"): \n",
    "                                  num_charc += 1\n",
    "                                    \n",
    "    print(\"Number of words in text file: \", num_words) \n",
    "      \n",
    "    print('Number of spaces in text file: ', num_spaces) \n",
    "\n",
    "def search():\n",
    "    x = open(\"C:\\\\Users\\\\devan\\\\OneDrive\\\\Desktop\\\\DEMO.txt\", \"r\")\n",
    "    letters = input('\\nEnter the letters to match: ') # \"ro\" would match \"copper\" and \"word\"\n",
    "    letters = letters.lower()\n",
    "    for line in x:\n",
    "        for word in line.split():\n",
    "            if all(l in word.lower() for l in letters): # could optimize with sets if needed\n",
    "                print (\"\\n\"+ word) \n",
    "    \n",
    "    \n",
    "if __name__ == '__main__':  \n",
    "    fname =r'C:\\Users\\devan\\OneDrive\\Desktop\\DEMO.txt'\n",
    "    try:  \n",
    "        counter(fname)  \n",
    "        search()\n",
    "    except:  \n",
    "        print('File not found')    \n",
    "                    "
   ]
  },
  {
   "cell_type": "code",
   "execution_count": null,
   "metadata": {},
   "outputs": [],
   "source": []
  }
 ],
 "metadata": {
  "kernelspec": {
   "display_name": "Python 3",
   "language": "python",
   "name": "python3"
  },
  "language_info": {
   "codemirror_mode": {
    "name": "ipython",
    "version": 3
   },
   "file_extension": ".py",
   "mimetype": "text/x-python",
   "name": "python",
   "nbconvert_exporter": "python",
   "pygments_lexer": "ipython3",
   "version": "3.8.3"
  }
 },
 "nbformat": 4,
 "nbformat_minor": 4
}
